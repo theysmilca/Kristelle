{
  "nbformat": 4,
  "nbformat_minor": 0,
  "metadata": {
    "colab": {
      "name": "python102021.ipynb",
      "provenance": [],
      "include_colab_link": true
    },
    "kernelspec": {
      "name": "python3",
      "display_name": "Python 3"
    },
    "language_info": {
      "name": "python"
    }
  },
  "cells": [
    {
      "cell_type": "markdown",
      "metadata": {
        "id": "view-in-github",
        "colab_type": "text"
      },
      "source": [
        "<a href=\"https://colab.research.google.com/github/theysmilca/Kristelle/blob/main/4100E221-python102021.ipynb\" target=\"_parent\"><img src=\"https://colab.research.google.com/assets/colab-badge.svg\" alt=\"Open In Colab\"/></a>"
      ]
    },
    {
      "cell_type": "markdown",
      "metadata": {
        "id": "jEZzfvJ1gNq3"
      },
      "source": [
        "# **Summation**"
      ]
    },
    {
      "cell_type": "code",
      "metadata": {
        "colab": {
          "base_uri": "https://localhost:8080/"
        },
        "id": "G3z92OoGMs3m",
        "outputId": "899cc560-9273-4e87-a47a-b3b665798848"
      },
      "source": [
        "def sum(a1, a2, a3):\n",
        "    result = 0\n",
        "    for a in range(a1, a2, a3):\n",
        "        result += a\n",
        "    return result\n",
        "\n",
        "def main():\n",
        "    print(\"Sum1\", sum(15, 20, 25)) \n",
        "    print(\"Sum2\", sum(70, 80, 6))\n",
        "    print(\"Sum3\", sum(7, 88, 4))\n",
        "\n",
        "main() # Call the main function"
      ],
      "execution_count": 1,
      "outputs": [
        {
          "output_type": "stream",
          "name": "stdout",
          "text": [
            "Sum1 15\n",
            "Sum2 146\n",
            "Sum3 987\n"
          ]
        }
      ]
    },
    {
      "cell_type": "code",
      "metadata": {
        "colab": {
          "base_uri": "https://localhost:8080/"
        },
        "id": "1F5-VeHEW0C6",
        "outputId": "5ab8dde2-6e7e-4881-fb1b-467b56a79707"
      },
      "source": [
        "12+18+24+30+36"
      ],
      "execution_count": 2,
      "outputs": [
        {
          "output_type": "execute_result",
          "data": {
            "text/plain": [
              "120"
            ]
          },
          "metadata": {},
          "execution_count": 2
        }
      ]
    },
    {
      "cell_type": "code",
      "metadata": {
        "colab": {
          "base_uri": "https://localhost:8080/"
        },
        "id": "HnEu-EC3ZFwu",
        "outputId": "7d777a0f-fcb0-4409-8203-fe8fdcae7566"
      },
      "source": [
        "52+54+56+58+60+62+64+66+68+70"
      ],
      "execution_count": 3,
      "outputs": [
        {
          "output_type": "execute_result",
          "data": {
            "text/plain": [
              "610"
            ]
          },
          "metadata": {},
          "execution_count": 3
        }
      ]
    },
    {
      "cell_type": "code",
      "metadata": {
        "colab": {
          "base_uri": "https://localhost:8080/"
        },
        "id": "2OEPQYh2ZRrn",
        "outputId": "fc3a30f0-c8de-4175-bafb-3bc97fdd365c"
      },
      "source": [
        "4+8+12+16+20+24+28+32+36+40+44+48+52"
      ],
      "execution_count": 4,
      "outputs": [
        {
          "output_type": "execute_result",
          "data": {
            "text/plain": [
              "364"
            ]
          },
          "metadata": {},
          "execution_count": 4
        }
      ]
    },
    {
      "cell_type": "markdown",
      "metadata": {
        "id": "f_WPP_4NgRvb"
      },
      "source": [
        "# **Swap**"
      ]
    },
    {
      "cell_type": "code",
      "metadata": {
        "id": "tZat1gyuRSV4",
        "colab": {
          "base_uri": "https://localhost:8080/"
        },
        "outputId": "753e8941-a205-4f25-8a17-fd8491d26e91"
      },
      "source": [
        "def swap(c,d):\n",
        "  c,d = d,c\n",
        "  return (c,d)\n",
        "\n",
        "if __name__ == '__main__':\n",
        "    c = 14\n",
        "    d = 12\n",
        "    print('c = %d,d = %d' % (c,d))\n",
        "    c,d = swap(c,d)\n",
        "    print('c = %d,d = %d' % (c,d))"
      ],
      "execution_count": 5,
      "outputs": [
        {
          "output_type": "stream",
          "name": "stdout",
          "text": [
            "c = 14,d = 12\n",
            "c = 12,d = 14\n"
          ]
        }
      ]
    },
    {
      "cell_type": "markdown",
      "metadata": {
        "id": "e3nInesxf-Ih"
      },
      "source": [
        "# **From Small to Large**"
      ]
    },
    {
      "cell_type": "code",
      "metadata": {
        "colab": {
          "base_uri": "https://localhost:8080/"
        },
        "id": "iPC1vy35VAFA",
        "outputId": "aff645c8-2c87-46bd-f812-2dcf1bfec4aa"
      },
      "source": [
        "def sort(numberA, numberB, numberC):\n",
        "    if numberA < numberB < numberC:\n",
        "        return numberA, numberB, numberC\n",
        "    else:\n",
        "        return numberC, numberB, numberA\n",
        "\n",
        "numA, numB, numC = sort(14, 12, 17)\n",
        "\n",
        "print(\"num1 is\", numA)\n",
        "print(\"num2 is\", numB)\n",
        "print(\"num3 is\", numC)"
      ],
      "execution_count": 6,
      "outputs": [
        {
          "output_type": "stream",
          "name": "stdout",
          "text": [
            "num1 is 17\n",
            "num2 is 12\n",
            "num3 is 14\n"
          ]
        }
      ]
    },
    {
      "cell_type": "markdown",
      "metadata": {
        "id": "k2dfraP-gCl_"
      },
      "source": [
        "# **From Large to Small**"
      ]
    },
    {
      "cell_type": "code",
      "metadata": {
        "colab": {
          "base_uri": "https://localhost:8080/"
        },
        "id": "G7oTlFP6Ylju",
        "outputId": "069210d1-a88f-4fb2-b916-5363db98eadf"
      },
      "source": [
        "def sort(number1, number2, number3):\n",
        "    if (number1 < number2) and (number1 < number3):\n",
        "      if number2 < number3:\n",
        "        return number1, number2,number3\n",
        "      else:\n",
        "        return number1, number3,number2\n",
        "    if (number2 < number1) and (number2 < number3):\n",
        "      if number1 < number3:\n",
        "        return number2, number1,number3\n",
        "      else:\n",
        "        return number2, number3,number1    \n",
        "    if (number3 < number1) and (number3 < number2):\n",
        "      if number1 < number2:\n",
        "        return number3, number1,number2\n",
        "      else:\n",
        "        return number3, number2,number1 \n",
        "\n",
        "num1, num2, num3  = sort(12,14,6)\n",
        "\n",
        "print(\"num1 is\", num1)\n",
        "print(\"num2 is\", num2)\n",
        "print(\"num2 is\", num3)"
      ],
      "execution_count": 7,
      "outputs": [
        {
          "output_type": "stream",
          "name": "stdout",
          "text": [
            "num1 is 6\n",
            "num2 is 12\n",
            "num2 is 14\n"
          ]
        }
      ]
    },
    {
      "cell_type": "markdown",
      "metadata": {
        "id": "ibTLQYwbgk54"
      },
      "source": [
        "# **Area**"
      ]
    },
    {
      "cell_type": "code",
      "metadata": {
        "id": "fmPD8UmxgomP"
      },
      "source": [
        "def printArea(width = 12.7, height = 24.88):\n",
        "    area = width * height\n",
        "    print(\"width:\", width, \"\\theight:\", height, \"\\tarea:\", area)"
      ],
      "execution_count": 14,
      "outputs": []
    },
    {
      "cell_type": "code",
      "metadata": {
        "colab": {
          "base_uri": "https://localhost:8080/"
        },
        "id": "bDjd0epxg7Gb",
        "outputId": "871adb87-762f-4f4f-912d-f7778cfddfea"
      },
      "source": [
        "12.7*24.88"
      ],
      "execution_count": 15,
      "outputs": [
        {
          "output_type": "execute_result",
          "data": {
            "text/plain": [
              "315.97599999999994"
            ]
          },
          "metadata": {},
          "execution_count": 15
        }
      ]
    },
    {
      "cell_type": "markdown",
      "metadata": {
        "id": "rxceyQI7hLyM"
      },
      "source": [
        "# **use default arguments**"
      ]
    },
    {
      "cell_type": "code",
      "metadata": {
        "colab": {
          "base_uri": "https://localhost:8080/"
        },
        "id": "t_ZC9zOmhRBh",
        "outputId": "c2b96f8c-bf89-42e8-abc0-052ec3a90bec"
      },
      "source": [
        "printArea()"
      ],
      "execution_count": 17,
      "outputs": [
        {
          "output_type": "stream",
          "name": "stdout",
          "text": [
            "width: 12.7 \theight: 24.88 \tarea: 315.97599999999994\n"
          ]
        }
      ]
    },
    {
      "cell_type": "markdown",
      "metadata": {
        "id": "b58nseaKhfd5"
      },
      "source": [
        "# **use Keyboard arguments**"
      ]
    },
    {
      "cell_type": "code",
      "metadata": {
        "colab": {
          "base_uri": "https://localhost:8080/"
        },
        "id": "uUGn8ZQ6hirV",
        "outputId": "3dc13de3-bc20-4e19-e41d-5757843d7e9b"
      },
      "source": [
        "printArea(width = 30, height = 14)"
      ],
      "execution_count": 18,
      "outputs": [
        {
          "output_type": "stream",
          "name": "stdout",
          "text": [
            "width: 30 \theight: 14 \tarea: 420\n"
          ]
        }
      ]
    },
    {
      "cell_type": "code",
      "metadata": {
        "colab": {
          "base_uri": "https://localhost:8080/"
        },
        "id": "Xsph4sFHhxu8",
        "outputId": "92039d86-2d09-420f-ded2-d345090d7507"
      },
      "source": [
        "printArea(height =14, width = 30)"
      ],
      "execution_count": 19,
      "outputs": [
        {
          "output_type": "stream",
          "name": "stdout",
          "text": [
            "width: 30 \theight: 14 \tarea: 420\n"
          ]
        }
      ]
    },
    {
      "cell_type": "markdown",
      "metadata": {
        "id": "eC16gH70h4mv"
      },
      "source": [
        "# **use Positional arguments**"
      ]
    },
    {
      "cell_type": "code",
      "metadata": {
        "colab": {
          "base_uri": "https://localhost:8080/"
        },
        "id": "j820HaU_h-4K",
        "outputId": "684c7fde-2557-41c2-c183-03ada4330f55"
      },
      "source": [
        "printArea(30,45)"
      ],
      "execution_count": 20,
      "outputs": [
        {
          "output_type": "stream",
          "name": "stdout",
          "text": [
            "width: 30 \theight: 45 \tarea: 1350\n"
          ]
        }
      ]
    },
    {
      "cell_type": "code",
      "metadata": {
        "colab": {
          "base_uri": "https://localhost:8080/"
        },
        "id": "1ADPrPeiiDxC",
        "outputId": "66949cba-3a1f-4512-9e62-c020e182838b"
      },
      "source": [
        "printArea(45,30)"
      ],
      "execution_count": 21,
      "outputs": [
        {
          "output_type": "stream",
          "name": "stdout",
          "text": [
            "width: 45 \theight: 30 \tarea: 1350\n"
          ]
        }
      ]
    },
    {
      "cell_type": "markdown",
      "metadata": {
        "id": "S_svbK11jnha"
      },
      "source": [
        "# **Lambda**"
      ]
    },
    {
      "cell_type": "code",
      "metadata": {
        "colab": {
          "base_uri": "https://localhost:8080/"
        },
        "id": "vZm4Wc0XjtKc",
        "outputId": "29bd7b55-5895-4d34-b539-a58bf4b50503"
      },
      "source": [
        "f4 = lambda a, b, c: a+3*b+4*c\n",
        "print(f4(6,7,8))"
      ],
      "execution_count": 22,
      "outputs": [
        {
          "output_type": "stream",
          "name": "stdout",
          "text": [
            "59\n"
          ]
        }
      ]
    },
    {
      "cell_type": "markdown",
      "metadata": {
        "id": "AvX2V2JJkJhe"
      },
      "source": [
        "# **Power of Lambda**"
      ]
    },
    {
      "cell_type": "code",
      "metadata": {
        "colab": {
          "base_uri": "https://localhost:8080/"
        },
        "id": "gSpuCe-4kNIF",
        "outputId": "c8c18f35-931c-4560-ac22-fc40162f19ef"
      },
      "source": [
        "def myfunc(a):\n",
        "    return a*a\n",
        "\n",
        "my_list = [4, 8, 12, -16, -20]\n",
        "\n",
        "print(list(map(lambda x:myfunc(x), my_list)))"
      ],
      "execution_count": 24,
      "outputs": [
        {
          "output_type": "stream",
          "name": "stdout",
          "text": [
            "[16, 64, 144, 256, 400]\n"
          ]
        }
      ]
    }
  ]
}