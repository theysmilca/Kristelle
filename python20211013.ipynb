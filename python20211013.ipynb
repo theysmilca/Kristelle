{
  "nbformat": 4,
  "nbformat_minor": 0,
  "metadata": {
    "colab": {
      "name": "python20211013.ipynb",
      "provenance": [],
      "include_colab_link": true
    },
    "kernelspec": {
      "name": "python3",
      "display_name": "Python 3"
    },
    "language_info": {
      "name": "python"
    }
  },
  "cells": [
    {
      "cell_type": "markdown",
      "metadata": {
        "id": "view-in-github",
        "colab_type": "text"
      },
      "source": [
        "<a href=\"https://colab.research.google.com/github/theysmilca/Kristelle/blob/main/python20211013.ipynb\" target=\"_parent\"><img src=\"https://colab.research.google.com/assets/colab-badge.svg\" alt=\"Open In Colab\"/></a>"
      ]
    },
    {
      "cell_type": "markdown",
      "metadata": {
        "id": "wEv4V-7_J69t"
      },
      "source": [
        "# Python Conditions and If statements\n",
        " \n",
        "20211013\n",
        "\n",
        "Kristelle S. Milca"
      ]
    },
    {
      "cell_type": "markdown",
      "metadata": {
        "id": "ygHX4B5kJyUO"
      },
      "source": [
        "a = b\n",
        "\n",
        "= ==> assignment not equal"
      ]
    },
    {
      "cell_type": "code",
      "metadata": {
        "colab": {
          "base_uri": "https://localhost:8080/"
        },
        "id": "m7J0wulfKSSN",
        "outputId": "9012ed99-84e4-491c-d1c2-989c66ac43d1"
      },
      "source": [
        "a = 18\n",
        "b = 38\n",
        "if b > a:\n",
        "  print(\"b is greater than a\")"
      ],
      "execution_count": 1,
      "outputs": [
        {
          "output_type": "stream",
          "name": "stdout",
          "text": [
            "b is greater than a\n"
          ]
        }
      ]
    },
    {
      "cell_type": "code",
      "metadata": {
        "id": "o4F4eOJxKa6c"
      },
      "source": [
        "a = 38\n",
        "b = 18\n",
        "if b > a:\n",
        "  print(\"b is greater than a\")"
      ],
      "execution_count": 2,
      "outputs": []
    },
    {
      "cell_type": "code",
      "metadata": {
        "colab": {
          "base_uri": "https://localhost:8080/"
        },
        "id": "Bqxph6_5KtOr",
        "outputId": "01556857-ca8d-43a0-b177-1a3f4f6c5a03"
      },
      "source": [
        "a = 38\n",
        "b = 38\n",
        "if b > a:\n",
        "  print(\"b is greater than a\")\n",
        "elif a == b:\n",
        "  print(\"a and b are equal\")"
      ],
      "execution_count": 3,
      "outputs": [
        {
          "output_type": "stream",
          "name": "stdout",
          "text": [
            "a and b are equal\n"
          ]
        }
      ]
    },
    {
      "cell_type": "code",
      "metadata": {
        "colab": {
          "base_uri": "https://localhost:8080/"
        },
        "id": "2zKSOIvbK6nL",
        "outputId": "b1f93278-0b25-45c1-c8eb-3fc17e934fb2"
      },
      "source": [
        "a = 38\n",
        "b = 18\n",
        "if b > a:\n",
        "  print(\"b is greater than a\")\n",
        "elif a == b:\n",
        "  print(\"a and b are equal\")\n",
        "else:\n",
        "  print(\"a is greater than b\")"
      ],
      "execution_count": 4,
      "outputs": [
        {
          "output_type": "stream",
          "name": "stdout",
          "text": [
            "a is greater than b\n"
          ]
        }
      ]
    },
    {
      "cell_type": "code",
      "metadata": {
        "colab": {
          "base_uri": "https://localhost:8080/"
        },
        "id": "PR4SgafaLLSr",
        "outputId": "9f2d1333-2f57-4eed-8a70-8d0b7f23ecf3"
      },
      "source": [
        "a = 38\n",
        "b = 18\n",
        "if b > a:\n",
        "  print(\"b is greater than a\")\n",
        "else:\n",
        "  print(\"b is not greater than a\")"
      ],
      "execution_count": 5,
      "outputs": [
        {
          "output_type": "stream",
          "name": "stdout",
          "text": [
            "b is not greater than a\n"
          ]
        }
      ]
    }
  ]
}