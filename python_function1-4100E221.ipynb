{
  "nbformat": 4,
  "nbformat_minor": 0,
  "metadata": {
    "colab": {
      "name": "python_function1.ipynb",
      "provenance": [],
      "collapsed_sections": [],
      "include_colab_link": true
    },
    "kernelspec": {
      "name": "python3",
      "display_name": "Python 3"
    },
    "language_info": {
      "name": "python"
    }
  },
  "cells": [
    {
      "cell_type": "markdown",
      "metadata": {
        "id": "view-in-github",
        "colab_type": "text"
      },
      "source": [
        "<a href=\"https://colab.research.google.com/github/theysmilca/Kristelle/blob/main/python_function1-4100E221.ipynb\" target=\"_parent\"><img src=\"https://colab.research.google.com/assets/colab-badge.svg\" alt=\"Open In Colab\"/></a>"
      ]
    },
    {
      "cell_type": "code",
      "metadata": {
        "colab": {
          "base_uri": "https://localhost:8080/"
        },
        "id": "wKTcINoKL0yJ",
        "outputId": "f93743ba-370e-4b51-b73f-6e6bc65bf9e5"
      },
      "source": [
        "def sum(i1, i2):\n",
        "    result = 0\n",
        "    for i in range(i1, i2):\n",
        "        result += i\n",
        "    return result\n",
        "\n",
        "def main():\n",
        "    print(\"Sum from 1 to 5 is\", sum(1, 6)) \n",
        "    print(\"Sum from 20 to 40 is\", sum(20, 41))\n",
        "    print(\"Sum from 35 to 55 is\", sum(35, 56))\n",
        "\n",
        "main() # Call the main function"
      ],
      "execution_count": null,
      "outputs": [
        {
          "output_type": "stream",
          "name": "stdout",
          "text": [
            "Sum from 1 to 5 is 15\n",
            "Sum from 20 to 40 is 630\n",
            "Sum from 35 to 55 is 945\n"
          ]
        }
      ]
    },
    {
      "cell_type": "markdown",
      "metadata": {
        "id": "stXcYjkNMuhf"
      },
      "source": [
        "sum(1, 5) ==> 1+2+..5=15"
      ]
    },
    {
      "cell_type": "markdown",
      "metadata": {
        "id": "tQEygft6NQqW"
      },
      "source": [
        "# Simple test\n",
        "please write a function sum(i1,i2,i3) that can do \n",
        "\n",
        "sum(i1,i2,i3)\n",
        "\n",
        "==> range(i1,i2,i3)\n",
        "\n",
        "def sum(i1,i2,i3):\n",
        "\n",
        "    -----your code\n",
        "\n",
        "\n",
        "def main():\n",
        "    print(\"Sum1\", sum(1, 6,1)) \n",
        "    print(\"Sum2\", sum(30, 50,4))\n",
        "    print(\"Sum3\", sum(40, 60,5))\n",
        "\n",
        "main() # Call the main function\n",
        "\n",
        "\n",
        "sum(1, 6,21) = 1+2+3+4+5\n",
        "\n",
        "sum(30, 50,4) = 30+34+38+42+46\n",
        "\n",
        "sum(40, 60,5) =40+45+50+55\n",
        "\n"
      ]
    },
    {
      "cell_type": "code",
      "metadata": {
        "id": "WblzT6sAMs_v"
      },
      "source": [
        ""
      ],
      "execution_count": 1,
      "outputs": []
    },
    {
      "cell_type": "code",
      "metadata": {
        "id": "1SNbildVRxIG",
        "colab": {
          "base_uri": "https://localhost:8080/"
        },
        "outputId": "91bfd6ed-22ea-458e-df91-bc91962f654f"
      },
      "source": [
        "def swap(c,b):\n",
        "  c,b = b,c\n",
        "  return (c,b)\n",
        "\n",
        "if __name__ == '__main__':\n",
        "    c = 40\n",
        "    b = 45\n",
        "    print('c = %d,b = %d' % (c,b))\n",
        "    x,y = swap(c,b)\n",
        "    print('c = %d,b = %d' % (c,b))"
      ],
      "execution_count": 2,
      "outputs": [
        {
          "output_type": "stream",
          "name": "stdout",
          "text": [
            "c = 40,b = 45\n",
            "c = 40,b = 45\n"
          ]
        }
      ]
    },
    {
      "cell_type": "code",
      "metadata": {
        "id": "GNo-4BOPVX0n",
        "colab": {
          "base_uri": "https://localhost:8080/"
        },
        "outputId": "9c90285c-b83f-4a59-c15a-de0ab2547951"
      },
      "source": [
        "def sort(number1, number2, number3 ): \n",
        "      if  (number1 < number2) and (number1 < number3):\n",
        "        if number2 < number3:\n",
        "            return number1, number2, number3\n",
        "      else:\n",
        "            return number1, number3, number2\n",
        "      if  (number2 < number1) and (number2 < number3):\n",
        "        if number1 < number3:\n",
        "            return number2, number1, number3\n",
        "      else:\n",
        "            return number2, number3, number1\n",
        "      if  (number3 < number1) and (number3 < number2):\n",
        "        if number1 < number2:\n",
        "            return number3, number1, number2\n",
        "      else:\n",
        "            return number3, number2, number1\n",
        "\n",
        "num1, num2, num3  = sort(20,24,38)\n",
        "\n",
        "print(\"num1 is\", num1)\n",
        "print(\"num2 is\", num2)\n",
        "print(\"num3 is\", num3)"
      ],
      "execution_count": 9,
      "outputs": [
        {
          "output_type": "stream",
          "name": "stdout",
          "text": [
            "num1 is 20\n",
            "num2 is 24\n",
            "num3 is 38\n"
          ]
        }
      ]
    },
    {
      "cell_type": "code",
      "metadata": {
        "id": "8ridCGZsgu59"
      },
      "source": [
        "#!/usr/bin/python\n",
        "#_*_ coding: UTF-8 _*_\n",
        "\n",
        "def printArea(width = 10, height= 15):\n",
        "    area =width * height\n",
        "    print(\"width\", width, \"\\theight\", height, \"\\tarea\", area)"
      ],
      "execution_count": 5,
      "outputs": []
    },
    {
      "cell_type": "code",
      "metadata": {
        "id": "XWWAHkisijBO",
        "colab": {
          "base_uri": "https://localhost:8080/"
        },
        "outputId": "9cab40d8-66a6-4215-aad4-ae8273161154"
      },
      "source": [
        "10*15"
      ],
      "execution_count": null,
      "outputs": [
        {
          "output_type": "execute_result",
          "data": {
            "text/plain": [
              "150"
            ]
          },
          "metadata": {},
          "execution_count": 42
        }
      ]
    },
    {
      "cell_type": "code",
      "metadata": {
        "id": "bktgm5tEjqEz",
        "colab": {
          "base_uri": "https://localhost:8080/"
        },
        "outputId": "d5e09907-f3f4-46b6-ae34-a2a97a9f8d45"
      },
      "source": [
        "printArea()"
      ],
      "execution_count": null,
      "outputs": [
        {
          "output_type": "stream",
          "name": "stdout",
          "text": [
            "width 10 \theight 15 \tarea 150\n"
          ]
        }
      ]
    },
    {
      "cell_type": "code",
      "metadata": {
        "id": "1ijLArhUkWU5",
        "colab": {
          "base_uri": "https://localhost:8080/"
        },
        "outputId": "e01550ed-271a-43f9-ea7a-f7f11d7b4fab"
      },
      "source": [
        "printArea(width = 10, height= 15)"
      ],
      "execution_count": null,
      "outputs": [
        {
          "output_type": "stream",
          "name": "stdout",
          "text": [
            "width 10 \theight 15 \tarea 150\n"
          ]
        }
      ]
    },
    {
      "cell_type": "code",
      "metadata": {
        "id": "_Z49G9BZkjLH",
        "colab": {
          "base_uri": "https://localhost:8080/"
        },
        "outputId": "c6d9d43e-f9de-4d02-aa6a-4d55d23aa60e"
      },
      "source": [
        "printArea(height = 15, width = 10)"
      ],
      "execution_count": null,
      "outputs": [
        {
          "output_type": "stream",
          "name": "stdout",
          "text": [
            "width 10 \theight 15 \tarea 150\n"
          ]
        }
      ]
    },
    {
      "cell_type": "code",
      "metadata": {
        "id": "LuvuuYR4ksVr",
        "colab": {
          "base_uri": "https://localhost:8080/"
        },
        "outputId": "d0757731-d72c-4b1c-fc74-a6e1b0852826"
      },
      "source": [
        "printArea(10,15)"
      ],
      "execution_count": null,
      "outputs": [
        {
          "output_type": "stream",
          "name": "stdout",
          "text": [
            "width 10 \theight 15 \tarea 150\n"
          ]
        }
      ]
    },
    {
      "cell_type": "code",
      "metadata": {
        "id": "MOluNqHbkx7m",
        "colab": {
          "base_uri": "https://localhost:8080/"
        },
        "outputId": "f615122d-566d-4d04-99fd-e1a9b2a958b1"
      },
      "source": [
        "printArea(15,10)"
      ],
      "execution_count": null,
      "outputs": [
        {
          "output_type": "stream",
          "name": "stdout",
          "text": [
            "width 15 \theight 10 \tarea 150\n"
          ]
        }
      ]
    },
    {
      "cell_type": "markdown",
      "metadata": {
        "id": "LpQ50nVulGJQ"
      },
      "source": [
        "  #lambda function\n"
      ]
    },
    {
      "cell_type": "code",
      "metadata": {
        "id": "0ySe7Hq8lK3M",
        "colab": {
          "base_uri": "https://localhost:8080/"
        },
        "outputId": "d24c9c9e-fefd-4ae7-ed74-e4d04923c2d4"
      },
      "source": [
        "f1 = lambda x,y, z: x+10*y+15*z\n",
        "print(f1(10,15,20))"
      ],
      "execution_count": 8,
      "outputs": [
        {
          "output_type": "stream",
          "name": "stdout",
          "text": [
            "460\n"
          ]
        }
      ]
    },
    {
      "cell_type": "code",
      "metadata": {
        "id": "9IM0Uh1zlsJP",
        "colab": {
          "base_uri": "https://localhost:8080/"
        },
        "outputId": "6f42c263-3821-4d9f-b35a-3053a5bebd33"
      },
      "source": [
        "def myfunc(m):\n",
        "    return m*x\n",
        "\n",
        "my_list = [30,35,40,45,50,55]\n",
        "\n",
        "print(list(map(lambda x:myfunc(x), my_list)))"
      ],
      "execution_count": 10,
      "outputs": [
        {
          "output_type": "stream",
          "name": "stdout",
          "text": [
            "[1350, 1575, 1800, 2025, 2250, 2475]\n"
          ]
        }
      ]
    }
  ]
}