{
  "nbformat": 4,
  "nbformat_minor": 0,
  "metadata": {
    "colab": {
      "name": "python 2.ipynb",
      "provenance": [],
      "collapsed_sections": [],
      "include_colab_link": true
    },
    "kernelspec": {
      "name": "python3",
      "display_name": "Python 3"
    },
    "language_info": {
      "name": "python"
    }
  },
  "cells": [
    {
      "cell_type": "markdown",
      "metadata": {
        "id": "view-in-github",
        "colab_type": "text"
      },
      "source": [
        "<a href=\"https://colab.research.google.com/github/theysmilca/Kristelle/blob/main/4100E221python_002.ipynb\" target=\"_parent\"><img src=\"https://colab.research.google.com/assets/colab-badge.svg\" alt=\"Open In Colab\"/></a>"
      ]
    },
    {
      "cell_type": "markdown",
      "metadata": {
        "id": "sQj-pQRy-mhL"
      },
      "source": [
        "#Numerics Data Type"
      ]
    },
    {
      "cell_type": "markdown",
      "metadata": {
        "id": "-WoEiqGhQ4MG"
      },
      "source": [
        "Date: 20211011\n",
        "\n",
        "Name: Kristelle S. Milca"
      ]
    },
    {
      "cell_type": "markdown",
      "metadata": {
        "id": "YevA4oTcQr0W"
      },
      "source": [
        "#Arithmetic Operators"
      ]
    },
    {
      "cell_type": "code",
      "metadata": {
        "colab": {
          "base_uri": "https://localhost:8080/",
          "height": 0
        },
        "id": "R2bFk10x-7XG",
        "outputId": "b4176f4c-72b4-4199-9095-968dc41671ad"
      },
      "source": [
        "a = 21 / 6\n",
        "a"
      ],
      "execution_count": 1,
      "outputs": [
        {
          "output_type": "execute_result",
          "data": {
            "text/plain": [
              "3.5"
            ]
          },
          "metadata": {},
          "execution_count": 1
        }
      ]
    },
    {
      "cell_type": "code",
      "metadata": {
        "colab": {
          "base_uri": "https://localhost:8080/",
          "height": 0
        },
        "id": "Rpsw-oLn_DF3",
        "outputId": "3c5fd3e1-0a25-4d4f-e89f-eb998152a97b"
      },
      "source": [
        "b = 21 // 6\n",
        "b"
      ],
      "execution_count": 2,
      "outputs": [
        {
          "output_type": "execute_result",
          "data": {
            "text/plain": [
              "3"
            ]
          },
          "metadata": {},
          "execution_count": 2
        }
      ]
    },
    {
      "cell_type": "code",
      "metadata": {
        "colab": {
          "base_uri": "https://localhost:8080/",
          "height": 0
        },
        "id": "2FOS4fia_P1x",
        "outputId": "a6e2d22b-7776-4538-928d-c82bdcfcf4b0"
      },
      "source": [
        "c = 21 % 6\n",
        "c"
      ],
      "execution_count": 3,
      "outputs": [
        {
          "output_type": "execute_result",
          "data": {
            "text/plain": [
              "3"
            ]
          },
          "metadata": {},
          "execution_count": 3
        }
      ]
    },
    {
      "cell_type": "markdown",
      "metadata": {
        "id": "YFQVdsmrAMWw"
      },
      "source": [
        "#Logical operators"
      ]
    },
    {
      "cell_type": "code",
      "metadata": {
        "colab": {
          "base_uri": "https://localhost:8080/",
          "height": 0
        },
        "id": "tgBxn9wLAQAg",
        "outputId": "e4b6c748-ebc7-459f-85de-0fa5d3bc3a6e"
      },
      "source": [
        "x = 8\n",
        "print(x > 4 and x < 8)"
      ],
      "execution_count": 4,
      "outputs": [
        {
          "output_type": "stream",
          "name": "stdout",
          "text": [
            "False\n"
          ]
        }
      ]
    },
    {
      "cell_type": "code",
      "metadata": {
        "colab": {
          "base_uri": "https://localhost:8080/",
          "height": 0
        },
        "id": "fPPbyKuJAh16",
        "outputId": "9e0e2913-4923-4950-a922-624189124ce8"
      },
      "source": [
        "x = 8\n",
        "print(x > 4 and x > 8)"
      ],
      "execution_count": 5,
      "outputs": [
        {
          "output_type": "stream",
          "name": "stdout",
          "text": [
            "False\n"
          ]
        }
      ]
    },
    {
      "cell_type": "code",
      "metadata": {
        "colab": {
          "base_uri": "https://localhost:8080/",
          "height": 0
        },
        "id": "QZNH6qFOBLSz",
        "outputId": "ac2b2d4e-446f-47da-e512-6f2d891741e9"
      },
      "source": [
        "x = 6\n",
        "print(x > 5 or x > 8)"
      ],
      "execution_count": 6,
      "outputs": [
        {
          "output_type": "stream",
          "name": "stdout",
          "text": [
            "True\n"
          ]
        }
      ]
    },
    {
      "cell_type": "markdown",
      "metadata": {
        "id": "dlzddQ9hBR2g"
      },
      "source": [
        "#Built-in functions"
      ]
    },
    {
      "cell_type": "code",
      "metadata": {
        "colab": {
          "base_uri": "https://localhost:8080/"
        },
        "id": "b23Itb2_BV8S",
        "outputId": "df6c3e53-322f-4cf5-e1ad-19cdaa6ce3a6"
      },
      "source": [
        "abs(12)"
      ],
      "execution_count": 11,
      "outputs": [
        {
          "output_type": "execute_result",
          "data": {
            "text/plain": [
              "12"
            ]
          },
          "metadata": {},
          "execution_count": 11
        }
      ]
    },
    {
      "cell_type": "code",
      "metadata": {
        "colab": {
          "base_uri": "https://localhost:8080/",
          "height": 35
        },
        "id": "i00BxucTB2Ui",
        "outputId": "08322ac7-9580-4d4c-b8eb-fe2f22805a43"
      },
      "source": [
        "hex(68)"
      ],
      "execution_count": 12,
      "outputs": [
        {
          "output_type": "execute_result",
          "data": {
            "application/vnd.google.colaboratory.intrinsic+json": {
              "type": "string"
            },
            "text/plain": [
              "'0x44'"
            ]
          },
          "metadata": {},
          "execution_count": 12
        }
      ]
    },
    {
      "cell_type": "markdown",
      "metadata": {
        "id": "xvS4pfH0Dexo"
      },
      "source": [
        "#string data type"
      ]
    },
    {
      "cell_type": "code",
      "metadata": {
        "colab": {
          "base_uri": "https://localhost:8080/",
          "height": 35
        },
        "id": "Dq_CyeEbEY9D",
        "outputId": "63be1491-4bb0-40b4-cd49-ac4a8562de85"
      },
      "source": [
        "str3 = 'You are \"kind\"'\n",
        "str3"
      ],
      "execution_count": 13,
      "outputs": [
        {
          "output_type": "execute_result",
          "data": {
            "application/vnd.google.colaboratory.intrinsic+json": {
              "type": "string"
            },
            "text/plain": [
              "'You are \"kind\"'"
            ]
          },
          "metadata": {},
          "execution_count": 13
        }
      ]
    },
    {
      "cell_type": "code",
      "metadata": {
        "colab": {
          "base_uri": "https://localhost:8080/"
        },
        "id": "T9vklinzFL6a",
        "outputId": "5e8d6dc2-7504-4c5e-c3f5-fb285019efcb"
      },
      "source": [
        "var1 = 'Hello Manila!'\n",
        "\n",
        "print(\"var1[3]: \", var1[3])"
      ],
      "execution_count": 15,
      "outputs": [
        {
          "output_type": "stream",
          "name": "stdout",
          "text": [
            "var1[3]:  l\n"
          ]
        }
      ]
    },
    {
      "cell_type": "code",
      "metadata": {
        "colab": {
          "base_uri": "https://localhost:8080/"
        },
        "id": "JH1hgnt7GDkF",
        "outputId": "117e2b38-278f-4fca-b248-cd34217865a7"
      },
      "source": [
        "b = \"Hi, Everyone!\"\n",
        "print(b[:14])"
      ],
      "execution_count": 16,
      "outputs": [
        {
          "output_type": "stream",
          "name": "stdout",
          "text": [
            "Hi, Everyone!\n"
          ]
        }
      ]
    },
    {
      "cell_type": "code",
      "metadata": {
        "colab": {
          "base_uri": "https://localhost:8080/"
        },
        "id": "saS1enEVHaoj",
        "outputId": "7f1a7f02-7962-4e4c-b498-965d8e01d769"
      },
      "source": [
        "txt = \"hey, what are you doing there?\"\n",
        "\n",
        "x = txt.capitalize()\n",
        "\n",
        "print (x)"
      ],
      "execution_count": 19,
      "outputs": [
        {
          "output_type": "stream",
          "name": "stdout",
          "text": [
            "Hey, what are you doing there?\n"
          ]
        }
      ]
    },
    {
      "cell_type": "code",
      "metadata": {
        "colab": {
          "base_uri": "https://localhost:8080/"
        },
        "id": "3LvQlnmVHeko",
        "outputId": "c7798e7a-b3c3-465e-88ff-7687d9698a85"
      },
      "source": [
        "mymother = (\"father\", \"Sister\", \"Brother\")\n",
        "\n",
        "x = \"#\".join(mymother)\n",
        "\n",
        "print(x)"
      ],
      "execution_count": 20,
      "outputs": [
        {
          "output_type": "stream",
          "name": "stdout",
          "text": [
            "father#Sister#Brother\n"
          ]
        }
      ]
    },
    {
      "cell_type": "code",
      "metadata": {
        "colab": {
          "base_uri": "https://localhost:8080/"
        },
        "id": "GT_dOuNwHuVI",
        "outputId": "d8ea0cc3-495e-45cc-ec7f-0d8172c5c76b"
      },
      "source": [
        "txt = \"Watermelon\"\n",
        "\n",
        "x = txt.ljust(10)\n",
        "\n",
        "print(x, \"is my favorite fruit.\")"
      ],
      "execution_count": 24,
      "outputs": [
        {
          "output_type": "stream",
          "name": "stdout",
          "text": [
            "Watermelon is my favorite fruit.\n"
          ]
        }
      ]
    },
    {
      "cell_type": "code",
      "metadata": {
        "colab": {
          "base_uri": "https://localhost:8080/"
        },
        "id": "GZpJbA8VINjo",
        "outputId": "0274b160-39ba-4b0e-8cd6-7e36a263986c"
      },
      "source": [
        "txt = \"     watermelon     \"\n",
        "\n",
        "x = txt.lstrip()\n",
        "\n",
        "print(\"this fruit\", x, \"is the one that i love\")"
      ],
      "execution_count": 28,
      "outputs": [
        {
          "output_type": "stream",
          "name": "stdout",
          "text": [
            "this fruit watermelon      is the one that i love\n"
          ]
        }
      ]
    },
    {
      "cell_type": "markdown",
      "metadata": {
        "id": "LyntkVD4LhvK"
      },
      "source": [
        "#list data type"
      ]
    },
    {
      "cell_type": "code",
      "metadata": {
        "colab": {
          "base_uri": "https://localhost:8080/"
        },
        "id": "djMsl79NLb6Y",
        "outputId": "6b03b009-8b46-4b98-f50b-0ac036cd7a1a"
      },
      "source": [
        "list1 = [23, 17, 19, 11, 16, 30]\n",
        "list1[:3]"
      ],
      "execution_count": 29,
      "outputs": [
        {
          "output_type": "execute_result",
          "data": {
            "text/plain": [
              "[23, 17, 19]"
            ]
          },
          "metadata": {},
          "execution_count": 29
        }
      ]
    },
    {
      "cell_type": "code",
      "metadata": {
        "colab": {
          "base_uri": "https://localhost:8080/"
        },
        "id": "St_1pp1mNEuC",
        "outputId": "79495d22-7085-4673-e84a-b01024425be1"
      },
      "source": [
        "list1 = [23, 17, 19, 11, 16, 30]\n",
        "max(list1)"
      ],
      "execution_count": 30,
      "outputs": [
        {
          "output_type": "execute_result",
          "data": {
            "text/plain": [
              "30"
            ]
          },
          "metadata": {},
          "execution_count": 30
        }
      ]
    },
    {
      "cell_type": "markdown",
      "metadata": {
        "id": "3eB5sCLMNnkY"
      },
      "source": [
        "#Dict Data"
      ]
    },
    {
      "cell_type": "code",
      "metadata": {
        "colab": {
          "base_uri": "https://localhost:8080/"
        },
        "id": "aiSJXH6qNp4i",
        "outputId": "9144441b-ec31-42f4-915c-03f7c07ea51b"
      },
      "source": [
        "dict = {'Name': 'Ke li si te', 'Age': 18, 'Class': 'Engineering'}\n",
        "print (\"dict['Name']: \", dict['Name'])"
      ],
      "execution_count": 33,
      "outputs": [
        {
          "output_type": "stream",
          "name": "stdout",
          "text": [
            "dict['Name']:  Ke li si te\n"
          ]
        }
      ]
    },
    {
      "cell_type": "code",
      "metadata": {
        "colab": {
          "base_uri": "https://localhost:8080/"
        },
        "id": "olHknumaStvt",
        "outputId": "6efdbd32-5de6-4462-a906-09fdc2af6658"
      },
      "source": [
        "print (\"dict ['Class']: \", dict ['Class'])"
      ],
      "execution_count": 34,
      "outputs": [
        {
          "output_type": "stream",
          "name": "stdout",
          "text": [
            "dict ['Class']:  Engineering\n"
          ]
        }
      ]
    }
  ]
}